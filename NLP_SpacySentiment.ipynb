{
 "cells": [
  {
   "cell_type": "code",
   "execution_count": 8,
   "metadata": {
    "collapsed": true
   },
   "outputs": [],
   "source": [
    "import spacy\n",
    "nlp = spacy.load('en')\n",
    "from spacy.matcher import Matcher"
   ]
  },
  {
   "cell_type": "code",
   "execution_count": 25,
   "metadata": {
    "collapsed": true
   },
   "outputs": [],
   "source": [
    "from textblob import TextBlob\n",
    "statement = u'Chipotle is the best fast food restaruant'"
   ]
  },
  {
   "cell_type": "code",
   "execution_count": 26,
   "metadata": {},
   "outputs": [
    {
     "name": "stdout",
     "output_type": "stream",
     "text": [
      "Sentiment Score:  0.6\n"
     ]
    }
   ],
   "source": [
    "sentiment = TextBlob(statement)\n",
    "print(\"Sentiment Score: \", sentiment.sentiment.polarity)  # Result = 1.0"
   ]
  },
  {
   "cell_type": "code",
   "execution_count": 27,
   "metadata": {
    "collapsed": true
   },
   "outputs": [],
   "source": [
    "import pandas as pd "
   ]
  },
  {
   "cell_type": "code",
   "execution_count": 28,
   "metadata": {
    "collapsed": true
   },
   "outputs": [],
   "source": [
    "df = pd.read_csv(\"/Users/brandonbryant/Downloads/app_reviews.csv\")"
   ]
  },
  {
   "cell_type": "code",
   "execution_count": 40,
   "metadata": {
    "collapsed": true
   },
   "outputs": [],
   "source": [
    "def sentiment(x):\n",
    "    return TextBlob(x).sentiment.polarity"
   ]
  },
  {
   "cell_type": "code",
   "execution_count": 41,
   "metadata": {
    "collapsed": true
   },
   "outputs": [
    {
     "data": {
      "text/plain": [
       "0      -0.400000\n",
       "1       0.293750\n",
       "2       0.000000\n",
       "3       0.107955\n",
       "4      -0.187500\n",
       "5       0.239394\n",
       "6       0.000000\n",
       "7       0.244444\n",
       "8       0.000000\n",
       "9       0.000000\n",
       "10     -0.800000\n",
       "11      0.000000\n",
       "12      0.000000\n",
       "13      0.098000\n",
       "14      0.000000\n",
       "15      0.177083\n",
       "16      0.312121\n",
       "17      0.008333\n",
       "18      0.027778\n",
       "19      0.416667\n",
       "20      0.000000\n",
       "21      0.602778\n",
       "22      0.045455\n",
       "23      0.012500\n",
       "24      0.433333\n",
       "25      0.237500\n",
       "26     -0.083333\n",
       "27     -0.500000\n",
       "28     -0.120000\n",
       "29     -0.194444\n",
       "          ...   \n",
       "3485    0.316667\n",
       "3486    0.400000\n",
       "3487   -0.500000\n",
       "3488    0.171591\n",
       "3489    0.000000\n",
       "3490    0.148611\n",
       "3491    0.260374\n",
       "3492    0.433333\n",
       "3493    0.976562\n",
       "3494    0.500000\n",
       "3495    0.625000\n",
       "3496    0.138571\n",
       "3497   -0.150000\n",
       "3498    0.128472\n",
       "3499    0.075000\n",
       "3500    0.200000\n",
       "3501    0.200000\n",
       "3502    0.000000\n",
       "3503    0.000000\n",
       "3504    0.372917\n",
       "3505    0.369167\n",
       "3506    0.000000\n",
       "3507    1.000000\n",
       "3508   -0.087500\n",
       "3509   -0.305952\n",
       "3510   -0.003125\n",
       "3511   -0.047917\n",
       "3512    0.222500\n",
       "3513    0.100000\n",
       "3514    0.373958\n",
       "Name: Review, Length: 3515, dtype: float64"
      ]
     },
     "execution_count": 41,
     "metadata": {},
     "output_type": "execute_result"
    }
   ],
   "source": [
    "df['Sentiment'] = df['Review'].apply(sentiment)"
   ]
  },
  {
   "cell_type": "code",
   "execution_count": 35,
   "metadata": {},
   "outputs": [
    {
     "data": {
      "text/plain": [
       "1.0"
      ]
     },
     "execution_count": 35,
     "metadata": {},
     "output_type": "execute_result"
    }
   ],
   "source": [
    "df['Sentiment'].max()"
   ]
  },
  {
   "cell_type": "code",
   "execution_count": 37,
   "metadata": {},
   "outputs": [
    {
     "data": {
      "text/plain": [
       "-1.0"
      ]
     },
     "execution_count": 37,
     "metadata": {},
     "output_type": "execute_result"
    }
   ],
   "source": [
    "df['Sentiment'].min()"
   ]
  },
  {
   "cell_type": "code",
   "execution_count": 38,
   "metadata": {},
   "outputs": [
    {
     "data": {
      "text/plain": [
       "0.08146317193229421"
      ]
     },
     "execution_count": 38,
     "metadata": {},
     "output_type": "execute_result"
    }
   ],
   "source": [
    "df['Sentiment'].mean()"
   ]
  },
  {
   "cell_type": "code",
   "execution_count": 39,
   "metadata": {},
   "outputs": [
    {
     "data": {
      "text/html": [
       "<div>\n",
       "<style>\n",
       "    .dataframe thead tr:only-child th {\n",
       "        text-align: right;\n",
       "    }\n",
       "\n",
       "    .dataframe thead th {\n",
       "        text-align: left;\n",
       "    }\n",
       "\n",
       "    .dataframe tbody tr th {\n",
       "        vertical-align: top;\n",
       "    }\n",
       "</style>\n",
       "<table border=\"1\" class=\"dataframe\">\n",
       "  <thead>\n",
       "    <tr style=\"text-align: right;\">\n",
       "      <th></th>\n",
       "      <th>User</th>\n",
       "      <th>Review</th>\n",
       "      <th>Sentiment</th>\n",
       "    </tr>\n",
       "  </thead>\n",
       "  <tbody>\n",
       "    <tr>\n",
       "      <th>0</th>\n",
       "      <td>nancg707</td>\n",
       "      <td>When I log on it just freezes so frustrating</td>\n",
       "      <td>-0.400000</td>\n",
       "    </tr>\n",
       "    <tr>\n",
       "      <th>1</th>\n",
       "      <td>Wepo#7</td>\n",
       "      <td>The app constantly crashes for no apparent iss...</td>\n",
       "      <td>0.293750</td>\n",
       "    </tr>\n",
       "    <tr>\n",
       "      <th>2</th>\n",
       "      <td>Saket99</td>\n",
       "      <td>The moment I click on Deposit checks, the app ...</td>\n",
       "      <td>0.000000</td>\n",
       "    </tr>\n",
       "    <tr>\n",
       "      <th>3</th>\n",
       "      <td>Tkuznets1275926899</td>\n",
       "      <td>When I log in I just see a screen with the wel...</td>\n",
       "      <td>0.107955</td>\n",
       "    </tr>\n",
       "    <tr>\n",
       "      <th>4</th>\n",
       "      <td>viv90</td>\n",
       "      <td>THE WORST BANKING APP EVER! IT ALWAYS CRASHES ...</td>\n",
       "      <td>-0.187500</td>\n",
       "    </tr>\n",
       "  </tbody>\n",
       "</table>\n",
       "</div>"
      ],
      "text/plain": [
       "                 User                                             Review  \\\n",
       "0            nancg707       When I log on it just freezes so frustrating   \n",
       "1              Wepo#7  The app constantly crashes for no apparent iss...   \n",
       "2             Saket99  The moment I click on Deposit checks, the app ...   \n",
       "3  Tkuznets1275926899  When I log in I just see a screen with the wel...   \n",
       "4               viv90  THE WORST BANKING APP EVER! IT ALWAYS CRASHES ...   \n",
       "\n",
       "   Sentiment  \n",
       "0  -0.400000  \n",
       "1   0.293750  \n",
       "2   0.000000  \n",
       "3   0.107955  \n",
       "4  -0.187500  "
      ]
     },
     "execution_count": 39,
     "metadata": {},
     "output_type": "execute_result"
    }
   ],
   "source": [
    "df.head()"
   ]
  },
  {
   "cell_type": "code",
   "execution_count": 42,
   "metadata": {
    "collapsed": true
   },
   "outputs": [],
   "source": [
    "import math\n",
    "from textblob import TextBlob as tb\n",
    "\n",
    "def tf(word, blob):\n",
    "    return blob.words.count(word) / len(blob.words)\n",
    "\n",
    "def n_containing(word, bloblist):\n",
    "    return sum(1 for blob in bloblist if word in blob.words)\n",
    "\n",
    "def idf(word, bloblist):\n",
    "    return math.log(len(bloblist) / (1 + n_containing(word, bloblist)))\n",
    "\n",
    "def tfidf(word, blob, bloblist):\n",
    "    return tf(word, blob) * idf(word, bloblist)"
   ]
  },
  {
   "cell_type": "code",
   "execution_count": 44,
   "metadata": {},
   "outputs": [],
   "source": [
    "bloblist = []\n",
    "for rev in df['Review']:\n",
    "    bloblist.append(TextBlob(rev))"
   ]
  },
  {
   "cell_type": "raw",
   "metadata": {},
   "source": []
  },
  {
   "cell_type": "code",
   "execution_count": null,
   "metadata": {
    "collapsed": true
   },
   "outputs": [],
   "source": []
  }
 ],
 "metadata": {
  "kernelspec": {
   "display_name": "Python 3",
   "language": "python",
   "name": "python3"
  },
  "language_info": {
   "codemirror_mode": {
    "name": "ipython",
    "version": 3
   },
   "file_extension": ".py",
   "mimetype": "text/x-python",
   "name": "python",
   "nbconvert_exporter": "python",
   "pygments_lexer": "ipython3",
   "version": "3.6.3"
  }
 },
 "nbformat": 4,
 "nbformat_minor": 2
}
