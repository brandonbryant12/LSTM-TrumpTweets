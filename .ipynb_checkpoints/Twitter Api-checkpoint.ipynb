{
 "cells": [
  {
   "cell_type": "code",
   "execution_count": 1,
   "metadata": {},
   "outputs": [
    {
     "name": "stderr",
     "output_type": "stream",
     "text": [
      "/Users/brandonbryant/anaconda/lib/python3.6/site-packages/h5py/__init__.py:36: FutureWarning: Conversion of the second argument of issubdtype from `float` to `np.floating` is deprecated. In future, it will be treated as `np.float64 == np.dtype(float).type`.\n",
      "  from ._conv import register_converters as _register_converters\n",
      "Using TensorFlow backend.\n",
      "/Users/brandonbryant/anaconda/lib/python3.6/importlib/_bootstrap.py:205: RuntimeWarning: compiletime version 3.5 of module 'tensorflow.python.framework.fast_tensor_util' does not match runtime version 3.6\n",
      "  return f(*args, **kwds)\n"
     ]
    }
   ],
   "source": [
    "import tweepy\n",
    "import keras\n",
    "from keras.models import Sequential\n",
    "from keras.layers import Dense, Dropout, Activation\n",
    "from keras.preprocessing.text import Tokenizer\n",
    "#from keras.preprocessing import sequence\n",
    "from sklearn.preprocessing import LabelEncoder\n",
    "from keras.preprocessing.sequence import pad_sequences\n",
    "from keras import metrics"
   ]
  },
  {
   "cell_type": "code",
   "execution_count": 32,
   "metadata": {
    "collapsed": true
   },
   "outputs": [],
   "source": [
    "# Consumer keys and access tokens, used for OAuth\n",
    "consumer_key = 'ovv01EKABkybH4DV3xxNYu3FQ'\n",
    "consumer_secret = 'dRwrgd3RjCqXimFKF8opgNTO4K5oYJAdbUUgIix2YxQV7Fz9Fw'\n",
    "access_token = '794951443811889152-3wOoFVtvoVhPmEp1tcVAqSVz9fwx1U0'\n",
    "access_token_secret = 'RhZaWUv68yk4oNymI1Sml4p0pZcCgHF79X9S4IdQJ59De'\n",
    " \n",
    "# OAuth process, using the keys and tokens\n",
    "auth = tweepy.OAuthHandler(consumer_key, consumer_secret)\n",
    "auth.set_access_token(access_token, access_token_secret)\n",
    " \n",
    "# Creation of the actual interface, using authentication\n",
    "api = tweepy.API(auth)"
   ]
  },
  {
   "cell_type": "code",
   "execution_count": 34,
   "metadata": {
    "collapsed": true
   },
   "outputs": [],
   "source": [
    "screen_names = [\"KingJames\", \"elonmusk\", \"realDonaldTrump\", 'madsozog']\n",
    "#screen_names = [\"realDonaldTrump\"]\n",
    "\n",
    "corpus = []\n",
    "labels = []\n",
    "for sn in screen_names:\n",
    "    tweets = api.user_timeline(screen_name = sn,count=200)\n",
    "    for tweet in tweets:\n",
    "        if \"RT\" not in tweet.text:\n",
    "            if sn == \"KingJames\":\n",
    "                labels.append(0)\n",
    "            elif sn == \"elonmusk\":\n",
    "                labels.append(1)\n",
    "            elif sn == 'madsozog':\n",
    "                labels.append(3)\n",
    "            else:\n",
    "                labels.append(2)\n",
    "            corpus.append(tweet.text)"
   ]
  },
  {
   "cell_type": "code",
   "execution_count": 35,
   "metadata": {},
   "outputs": [
    {
     "data": {
      "text/plain": [
       "array([[1., 0., 0., 0.],\n",
       "       [1., 0., 0., 0.],\n",
       "       [1., 0., 0., 0.],\n",
       "       ...,\n",
       "       [0., 0., 0., 1.],\n",
       "       [0., 0., 0., 1.],\n",
       "       [0., 0., 0., 1.]])"
      ]
     },
     "execution_count": 35,
     "metadata": {},
     "output_type": "execute_result"
    }
   ],
   "source": [
    "y = keras.utils.to_categorical(labels, num_classes=4)\n",
    "y"
   ]
  },
  {
   "cell_type": "code",
   "execution_count": 36,
   "metadata": {},
   "outputs": [
    {
     "data": {
      "text/plain": [
       "3458"
      ]
     },
     "execution_count": 36,
     "metadata": {},
     "output_type": "execute_result"
    }
   ],
   "source": [
    "# create the tokenizer\n",
    "t = Tokenizer()\n",
    "# fit the tokenizer on the documents\n",
    "t.fit_on_texts(corpus)\n",
    "x = t.texts_to_matrix(corpus, mode='count')\n",
    "x.shape[1]"
   ]
  },
  {
   "cell_type": "code",
   "execution_count": 37,
   "metadata": {},
   "outputs": [
    {
     "name": "stdout",
     "output_type": "stream",
     "text": [
      "_________________________________________________________________\n",
      "Layer (type)                 Output Shape              Param #   \n",
      "=================================================================\n",
      "dense_19 (Dense)             (None, 512)               1771008   \n",
      "_________________________________________________________________\n",
      "dropout_13 (Dropout)         (None, 512)               0         \n",
      "_________________________________________________________________\n",
      "dense_20 (Dense)             (None, 256)               131328    \n",
      "_________________________________________________________________\n",
      "dropout_14 (Dropout)         (None, 256)               0         \n",
      "_________________________________________________________________\n",
      "dense_21 (Dense)             (None, 4)                 1028      \n",
      "=================================================================\n",
      "Total params: 1,903,364\n",
      "Trainable params: 1,903,364\n",
      "Non-trainable params: 0\n",
      "_________________________________________________________________\n",
      "compile done\n"
     ]
    }
   ],
   "source": [
    "model = Sequential()\n",
    "model.add(Dense(512, activation='relu', input_shape=(x.shape[1],)))\n",
    "model.add(Dropout(0.2))\n",
    "model.add(Dense(256, activation='relu'))\n",
    "model.add(Dropout(0.2))\n",
    "model.add(Dense(4, activation='softmax'))\n",
    "model.summary()\n",
    "model.compile(loss='binary_crossentropy',\n",
    "              optimizer='adam',\n",
    "              metrics=['acc',metrics.binary_accuracy])\n",
    "print('compile done')"
   ]
  },
  {
   "cell_type": "code",
   "execution_count": 38,
   "metadata": {},
   "outputs": [
    {
     "name": "stdout",
     "output_type": "stream",
     "text": [
      "Train on 540 samples, validate on 135 samples\n",
      "Epoch 1/10\n",
      "540/540 [==============================] - 2s 3ms/step - loss: 0.4836 - acc: 0.7741 - binary_accuracy: 0.7741 - val_loss: 1.1263 - val_acc: 0.7278 - val_binary_accuracy: 0.7278\n",
      "Epoch 2/10\n",
      "540/540 [==============================] - 1s 1ms/step - loss: 0.2762 - acc: 0.8870 - binary_accuracy: 0.8870 - val_loss: 1.5052 - val_acc: 0.6278 - val_binary_accuracy: 0.6278\n",
      "Epoch 3/10\n",
      "540/540 [==============================] - 1s 1ms/step - loss: 0.0929 - acc: 0.9718 - binary_accuracy: 0.9718 - val_loss: 1.7814 - val_acc: 0.5259 - val_binary_accuracy: 0.5259\n",
      "Epoch 4/10\n",
      "540/540 [==============================] - 1s 2ms/step - loss: 0.0362 - acc: 0.9894 - binary_accuracy: 0.9894 - val_loss: 1.7578 - val_acc: 0.5352 - val_binary_accuracy: 0.5352\n",
      "Epoch 5/10\n",
      "540/540 [==============================] - 1s 1ms/step - loss: 0.0208 - acc: 0.9931 - binary_accuracy: 0.9931 - val_loss: 1.7640 - val_acc: 0.5278 - val_binary_accuracy: 0.5278\n",
      "Epoch 6/10\n",
      "540/540 [==============================] - 1s 2ms/step - loss: 0.0138 - acc: 0.9958 - binary_accuracy: 0.9958 - val_loss: 1.7157 - val_acc: 0.5278 - val_binary_accuracy: 0.5278\n",
      "Epoch 7/10\n",
      "540/540 [==============================] - 1s 2ms/step - loss: 0.0095 - acc: 0.9968 - binary_accuracy: 0.9968 - val_loss: 1.7119 - val_acc: 0.5222 - val_binary_accuracy: 0.5222\n",
      "Epoch 8/10\n",
      "540/540 [==============================] - 1s 2ms/step - loss: 0.0065 - acc: 0.9981 - binary_accuracy: 0.9981 - val_loss: 1.6566 - val_acc: 0.5167 - val_binary_accuracy: 0.5167\n",
      "Epoch 9/10\n",
      "540/540 [==============================] - 1s 1ms/step - loss: 0.0046 - acc: 1.0000 - binary_accuracy: 1.0000 - val_loss: 1.6088 - val_acc: 0.5222 - val_binary_accuracy: 0.5222\n",
      "Epoch 10/10\n",
      "540/540 [==============================] - 1s 1ms/step - loss: 0.0030 - acc: 1.0000 - binary_accuracy: 1.0000 - val_loss: 1.5590 - val_acc: 0.5241 - val_binary_accuracy: 0.5241\n"
     ]
    },
    {
     "data": {
      "text/plain": [
       "<keras.callbacks.History at 0x126bc6940>"
      ]
     },
     "execution_count": 38,
     "metadata": {},
     "output_type": "execute_result"
    }
   ],
   "source": [
    "model.fit(x,y,batch_size=32,epochs=10,verbose=1,validation_split=0.2)"
   ]
  },
  {
   "cell_type": "code",
   "execution_count": 89,
   "metadata": {
    "collapsed": true
   },
   "outputs": [],
   "source": [
    "#tmp = api.user_timeline(screen_name = \"kingjames\",count=10)\n",
    "\n",
    "#tmp = fakeTweetsDF\n",
    "predictions = [] \n",
    "\n",
    "#for y in tmp:\n",
    "for i in range(0,len(fakeTweetsDF.values)):\n",
    "    #test_x = [y.text]\n",
    "    test_x = fakeTweetsDF.values[i]\n",
    "    test_x = t.texts_to_matrix(test_x, mode='count')\n",
    "    pred = model.predict(test_x)\n",
    "    bestScore = -1\n",
    "    idx = -1\n",
    "    for i in range(0,3):\n",
    "        if pred[0][i] > bestScore:\n",
    "            bestScore = pred[0][i]\n",
    "            idx = i\n",
    "    predictions.append(idx)\n"
   ]
  },
  {
   "cell_type": "code",
   "execution_count": 90,
   "metadata": {},
   "outputs": [
    {
     "name": "stdout",
     "output_type": "stream",
     "text": [
      "0.71\n"
     ]
    }
   ],
   "source": [
    "predictions\n",
    "correct = 0 \n",
    "for i in predictions:\n",
    "    if i ==2:\n",
    "        correct = correct+1\n",
    "        \n",
    "print(float(correct)/float(len(predictions)))"
   ]
  },
  {
   "cell_type": "code",
   "execution_count": 68,
   "metadata": {},
   "outputs": [
    {
     "data": {
      "text/plain": [
       "pandas.core.frame.DataFrame"
      ]
     },
     "execution_count": 68,
     "metadata": {},
     "output_type": "execute_result"
    }
   ],
   "source": [
    "type(fakeTweetsDF)"
   ]
  },
  {
   "cell_type": "code",
   "execution_count": 26,
   "metadata": {
    "collapsed": true
   },
   "outputs": [],
   "source": [
    "import pandas as pd"
   ]
  },
  {
   "cell_type": "code",
   "execution_count": 88,
   "metadata": {},
   "outputs": [
    {
     "data": {
      "text/plain": [
       "100"
      ]
     },
     "execution_count": 88,
     "metadata": {},
     "output_type": "execute_result"
    }
   ],
   "source": [
    "fakeTweetsDF = pd.read_csv(\"/Users/brandonbryant/PycharmProjects/FakeTrumpTweets.csv\")\n",
    "len(fakeTweetsDF)"
   ]
  },
  {
   "cell_type": "code",
   "execution_count": 51,
   "metadata": {
    "collapsed": true
   },
   "outputs": [],
   "source": [
    "yFake = fakeTweetsDF['tweets'].values"
   ]
  },
  {
   "cell_type": "code",
   "execution_count": 56,
   "metadata": {},
   "outputs": [
    {
     "data": {
      "text/plain": [
       "10"
      ]
     },
     "execution_count": 56,
     "metadata": {},
     "output_type": "execute_result"
    }
   ],
   "source": [
    "len(yFake)"
   ]
  },
  {
   "cell_type": "code",
   "execution_count": null,
   "metadata": {
    "collapsed": true
   },
   "outputs": [],
   "source": []
  }
 ],
 "metadata": {
  "kernelspec": {
   "display_name": "Python 3",
   "language": "python",
   "name": "python3"
  },
  "language_info": {
   "codemirror_mode": {
    "name": "ipython",
    "version": 3
   },
   "file_extension": ".py",
   "mimetype": "text/x-python",
   "name": "python",
   "nbconvert_exporter": "python",
   "pygments_lexer": "ipython3",
   "version": "3.6.3"
  }
 },
 "nbformat": 4,
 "nbformat_minor": 2
}
